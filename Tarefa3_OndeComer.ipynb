{
  "nbformat": 4,
  "nbformat_minor": 0,
  "metadata": {
    "colab": {
      "provenance": [],
      "include_colab_link": true
    },
    "kernelspec": {
      "name": "python3",
      "display_name": "Python 3"
    },
    "language_info": {
      "name": "python"
    }
  },
  "cells": [
    {
      "cell_type": "markdown",
      "metadata": {
        "id": "view-in-github",
        "colab_type": "text"
      },
      "source": [
        "<a href=\"https://colab.research.google.com/github/lucasxavila/Atividade-Perceptron/blob/main/Tarefa3_OndeComer.ipynb\" target=\"_parent\"><img src=\"https://colab.research.google.com/assets/colab-badge.svg\" alt=\"Open In Colab\"/></a>"
      ]
    },
    {
      "cell_type": "code",
      "execution_count": 3,
      "metadata": {
        "colab": {
          "base_uri": "https://localhost:8080/"
        },
        "id": "IC-27r8Bu_di",
        "outputId": "408fceec-6fd7-43a8-9040-7bd504b38a92"
      },
      "outputs": [
        {
          "output_type": "stream",
          "name": "stdout",
          "text": [
            "Previsões:\n",
            "Cansado do Trabalho: 0, Ingredientes em Casa: 1, Restaurante Aberto:1, Pagamento Recente:1 => Ir ao restaurante? Não\n",
            "Cansado do Trabalho: 1, Ingredientes em Casa: 0, Restaurante Aberto:1, Pagamento Recente:1 => Ir ao restaurante? Sim\n",
            "Cansado do Trabalho: 1, Ingredientes em Casa: 1, Restaurante Aberto:0, Pagamento Recente:1 => Ir ao restaurante? Não\n",
            "Cansado do Trabalho: 0, Ingredientes em Casa: 0, Restaurante Aberto:1, Pagamento Recente:0 => Ir ao restaurante? Sim\n",
            "Cansado do Trabalho: 1, Ingredientes em Casa: 1, Restaurante Aberto:1, Pagamento Recente:1 => Ir ao restaurante? Sim\n",
            "Cansado do Trabalho: 0, Ingredientes em Casa: 1, Restaurante Aberto:0, Pagamento Recente:0 => Ir ao restaurante? Não\n",
            "Cansado do Trabalho: 1, Ingredientes em Casa: 0, Restaurante Aberto:0, Pagamento Recente:1 => Ir ao restaurante? Não\n",
            "Cansado do Trabalho: 0, Ingredientes em Casa: 0, Restaurante Aberto:0, Pagamento Recente:1 => Ir ao restaurante? Não\n"
          ]
        }
      ],
      "source": [
        "# Importando biblioteca\n",
        "from sklearn.linear_model import Perceptron\n",
        "\n",
        "# Dados de entrada\n",
        "X = [[0,1,1,1], [1,0,1,1], [1,1,0,1], [0,0,1,0], [1,1,1,1], [0,1,0,0], [1,0,0,1], [0,0,0,1]]\n",
        "\n",
        "# Saídas desejadas\n",
        "Y = [0, 1, 0, 1, 1, 0, 0, 0]\n",
        "\n",
        "# Criando e treinando o perceptron\n",
        "modelo = Perceptron()\n",
        "modelo.fit(X, Y)\n",
        "\n",
        "# Testando o modelo\n",
        "print(\"Previsões:\")\n",
        "testes = [[0,1,1,1], [1,0,1,1], [1,1,0,1], [0,0,1,0], [1,1,1,1], [0,1,0,0], [1,0,0,1], [0,0,0,1]]\n",
        "for teste in testes:\n",
        "  previsao = modelo.predict([teste])\n",
        "  print(f\"Cansado do Trabalho: {teste[0]}, Ingredientes em Casa: {teste[1]}, Restaurante Aberto:{teste[2]}, Pagamento Recente:{teste[3]} => Ir ao restaurante? {'Sim' if previsao[0] == 1 else 'Não'}\")"
      ]
    }
  ]
}