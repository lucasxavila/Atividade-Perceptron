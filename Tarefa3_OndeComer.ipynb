{
  "nbformat": 4,
  "nbformat_minor": 0,
  "metadata": {
    "colab": {
      "provenance": [],
      "authorship_tag": "ABX9TyPSF4Kb05vMUja7DLH+QdRE",
      "include_colab_link": true
    },
    "kernelspec": {
      "name": "python3",
      "display_name": "Python 3"
    },
    "language_info": {
      "name": "python"
    }
  },
  "cells": [
    {
      "cell_type": "markdown",
      "metadata": {
        "id": "view-in-github",
        "colab_type": "text"
      },
      "source": [
        "<a href=\"https://colab.research.google.com/github/lucasxavila/Atividade-Perceptron/blob/main/Tarefa3_OndeComer.ipynb\" target=\"_parent\"><img src=\"https://colab.research.google.com/assets/colab-badge.svg\" alt=\"Open In Colab\"/></a>"
      ]
    },
    {
      "cell_type": "code",
      "execution_count": 1,
      "metadata": {
        "colab": {
          "base_uri": "https://localhost:8080/"
        },
        "id": "IC-27r8Bu_di",
        "outputId": "fc56c87b-5e78-4453-b2cc-203538830e93"
      },
      "outputs": [
        {
          "output_type": "stream",
          "name": "stdout",
          "text": [
            "Previsões:\n",
            "Cansado: Não, Ingredientes em Casa: Sim, Restaurante Aberto: Sim, Pagamento Recente: Sim=> Comer fora? Não\n",
            "Cansado: Sim, Ingredientes em Casa: Não, Restaurante Aberto: Sim, Pagamento Recente: Sim=> Comer fora? Sim\n",
            "Cansado: Sim, Ingredientes em Casa: Sim, Restaurante Aberto: Não, Pagamento Recente: Sim=> Comer fora? Não\n",
            "Cansado: Não, Ingredientes em Casa: Não, Restaurante Aberto: Sim, Pagamento Recente: Não=> Comer fora? Sim\n",
            "Cansado: Sim, Ingredientes em Casa: Sim, Restaurante Aberto: Sim, Pagamento Recente: Sim=> Comer fora? Sim\n",
            "Cansado: Não, Ingredientes em Casa: Sim, Restaurante Aberto: Não, Pagamento Recente: Não=> Comer fora? Não\n",
            "Cansado: Sim, Ingredientes em Casa: Não, Restaurante Aberto: Não, Pagamento Recente: Sim=> Comer fora? Não\n",
            "Cansado: Não, Ingredientes em Casa: Não, Restaurante Aberto: Não, Pagamento Recente: Sim=> Comer fora? Não\n"
          ]
        }
      ],
      "source": [
        "#Importanto biblioteca\n",
        "from sklearn.linear_model import Perceptron\n",
        "\n",
        "#Ddados de entrada\n",
        "X = [[0, 1, 1, 1], [1, 0, 1, 1], [1, 1, 0, 1], [0, 0, 1, 0], [1, 1, 1, 1], [0, 1, 0, 0], [1, 0, 0, 1], [0, 0, 0, 1]]\n",
        "\n",
        "#Saídas desejadas\n",
        "Y = [0, 1, 0, 1, 1, 0, 0, 0]\n",
        "\n",
        "#Criando e treinando o perceptron\n",
        "modelo = Perceptron()\n",
        "modelo.fit(X, Y)\n",
        "\n",
        "#Testando o modelo\n",
        "print(\"Previsões:\")\n",
        "testes = [[0,1,1,1], [1,0,1,1], [1,1,0,1], [0,0,1,0], [1,1,1,1], [0,1,0,0], [1,0,0,1], [0,0,0,1]]\n",
        "for teste in testes:\n",
        "  previsao = modelo.predict([teste])\n",
        "  print(f\"Cansado: {'Sim' if teste[0] == 1 else 'Não'}, Ingredientes em Casa: {'Sim' if teste[1] == 1 else 'Não'}, Restaurante Aberto: {'Sim' if teste[2] == 1 else 'Não'}, Pagamento Recente: {'Sim' if teste[3] == 1 else 'Não'}=> Comer fora? {'Sim' if previsao[0] == 1 else 'Não'}\")"
      ]
    }
  ]
}