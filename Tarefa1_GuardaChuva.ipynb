{
  "nbformat": 4,
  "nbformat_minor": 0,
  "metadata": {
    "colab": {
      "provenance": [],
      "authorship_tag": "ABX9TyNyx1vtVkA2gSL8DpY8O6oF",
      "include_colab_link": true
    },
    "kernelspec": {
      "name": "python3",
      "display_name": "Python 3"
    },
    "language_info": {
      "name": "python"
    }
  },
  "cells": [
    {
      "cell_type": "markdown",
      "metadata": {
        "id": "view-in-github",
        "colab_type": "text"
      },
      "source": [
        "<a href=\"https://colab.research.google.com/github/lucasxavila/Atividade-Perceptron/blob/main/Tarefa1_GuardaChuva.ipynb\" target=\"_parent\"><img src=\"https://colab.research.google.com/assets/colab-badge.svg\" alt=\"Open In Colab\"/></a>"
      ]
    },
    {
      "cell_type": "code",
      "source": [
        "#Importanto biblioteca\n",
        "from sklearn.linear_model import Perceptron\n",
        "\n",
        "#Ddados de entrada\n",
        "X = [[0, 0], [0, 1], [1, 0], [1, 1]]\n",
        "\n",
        "#Saídas desejadas\n",
        "Y = [0, 1, 1, 1]\n",
        "\n",
        "#Criando e treinando o perceptron\n",
        "modelo = Perceptron()\n",
        "modelo.fit(X, Y)\n",
        "\n",
        "#Testando o modelo\n",
        "print(\"Previsões:\")\n",
        "testes = [[0,0], [0,1], [1,0], [1,1]]\n",
        "for teste in testes:\n",
        "  previsao = modelo.predict([teste])\n",
        "  print(f\"Nuvens: {teste[0]}, Previsão Chuva: {teste[1]} => Levar Guarda-chuva? {'Sim' if previsao[0] == 1 else 'Não'}\")\n",
        ""
      ],
      "metadata": {
        "id": "19V48Jl9jMol",
        "colab": {
          "base_uri": "https://localhost:8080/"
        },
        "outputId": "2146f6e8-23ae-4fcb-da6b-0917670b64c8"
      },
      "execution_count": 6,
      "outputs": [
        {
          "output_type": "stream",
          "name": "stdout",
          "text": [
            "Previsões:\n",
            "Nuvens: 0, Previsão Chuva: 0 => Levar Guarda-chuva? Não\n",
            "Nuvens: 0, Previsão Chuva: 1 => Levar Guarda-chuva? Sim\n",
            "Nuvens: 1, Previsão Chuva: 0 => Levar Guarda-chuva? Sim\n",
            "Nuvens: 1, Previsão Chuva: 1 => Levar Guarda-chuva? Sim\n"
          ]
        }
      ]
    }
  ]
}