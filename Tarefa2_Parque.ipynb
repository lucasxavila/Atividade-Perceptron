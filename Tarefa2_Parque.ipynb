{
  "nbformat": 4,
  "nbformat_minor": 0,
  "metadata": {
    "colab": {
      "provenance": [],
      "include_colab_link": true
    },
    "kernelspec": {
      "name": "python3",
      "display_name": "Python 3"
    },
    "language_info": {
      "name": "python"
    }
  },
  "cells": [
    {
      "cell_type": "markdown",
      "metadata": {
        "id": "view-in-github",
        "colab_type": "text"
      },
      "source": [
        "<a href=\"https://colab.research.google.com/github/lucasxavila/Atividade-Perceptron/blob/main/Tarefa2_Parque.ipynb\" target=\"_parent\"><img src=\"https://colab.research.google.com/assets/colab-badge.svg\" alt=\"Open In Colab\"/></a>"
      ]
    },
    {
      "cell_type": "code",
      "execution_count": 2,
      "metadata": {
        "colab": {
          "base_uri": "https://localhost:8080/"
        },
        "id": "UXVPhdoN0Vp1",
        "outputId": "28327e27-2711-4829-906c-2aceec042f3a"
      },
      "outputs": [
        {
          "output_type": "stream",
          "name": "stdout",
          "text": [
            "Previsões:\n",
            "Ensolarado: 0, Final de semana: 0, Parque lotado: 0 => ir ao parque? Não\n",
            "Ensolarado: 0, Final de semana: 1, Parque lotado: 0 => ir ao parque? Sim\n",
            "Ensolarado: 1, Final de semana: 0, Parque lotado: 0 => ir ao parque? Sim\n",
            "Ensolarado: 1, Final de semana: 1, Parque lotado: 0 => ir ao parque? Sim\n",
            "Ensolarado: 0, Final de semana: 0, Parque lotado: 1 => ir ao parque? Não\n",
            "Ensolarado: 0, Final de semana: 1, Parque lotado: 1 => ir ao parque? Não\n",
            "Ensolarado: 1, Final de semana: 0, Parque lotado: 1 => ir ao parque? Não\n",
            "Ensolarado: 1, Final de semana: 1, Parque lotado: 1 => ir ao parque? Não\n"
          ]
        }
      ],
      "source": [
        "# Importando biblioteca\n",
        "from sklearn.linear_model import Perceptron\n",
        "\n",
        "# Dados de entrada\n",
        "X = [[0,0,0], [0,1,0], [1,0,0], [1,1,0], [0,0,1], [0,1,1], [1,0,1], [1,1,1]]\n",
        "\n",
        "# Saídas desejadas\n",
        "Y = [0, 1, 1, 1, 0, 0, 0, 0]\n",
        "\n",
        "# Criando e treinando o perceptron\n",
        "modelo = Perceptron()\n",
        "modelo.fit(X, Y)\n",
        "\n",
        "# Testando o modelo\n",
        "print(\"Previsões:\")\n",
        "testes = [[0,0,0], [0,1,0], [1,0,0], [1,1,0], [0,0,1], [0,1,1], [1,0,1], [1,1,1]]\n",
        "for teste in testes:\n",
        "  previsao = modelo.predict([teste])\n",
        "  print(f\"Ensolarado: {teste[0]}, Final de semana: {teste[1]}, Parque lotado: {teste[2]} => ir ao parque? {'Sim' if previsao[0] == 1 else 'Não'}\")"
      ]
    }
  ]
}