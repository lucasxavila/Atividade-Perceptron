{
  "nbformat": 4,
  "nbformat_minor": 0,
  "metadata": {
    "colab": {
      "provenance": [],
      "authorship_tag": "ABX9TyM0COoM+FqyMNSaWqhIlPEy",
      "include_colab_link": true
    },
    "kernelspec": {
      "name": "python3",
      "display_name": "Python 3"
    },
    "language_info": {
      "name": "python"
    }
  },
  "cells": [
    {
      "cell_type": "markdown",
      "metadata": {
        "id": "view-in-github",
        "colab_type": "text"
      },
      "source": [
        "<a href=\"https://colab.research.google.com/github/lucasxavila/Atividade-Perceptron/blob/main/Tarefa2_Parque.ipynb\" target=\"_parent\"><img src=\"https://colab.research.google.com/assets/colab-badge.svg\" alt=\"Open In Colab\"/></a>"
      ]
    },
    {
      "cell_type": "code",
      "execution_count": 1,
      "metadata": {
        "colab": {
          "base_uri": "https://localhost:8080/"
        },
        "id": "UXVPhdoN0Vp1",
        "outputId": "fccda341-3a4d-4feb-c14c-39360c5966b2"
      },
      "outputs": [
        {
          "output_type": "stream",
          "name": "stdout",
          "text": [
            "Previsões:\n",
            "Ensolarado: 0, Dia da Semana: Dia útil, Parque Lotado: Não => Ir ao parque? Sim\n",
            "Ensolarado: 0, Dia da Semana: Final de Semana, Parque Lotado: Não => Ir ao parque? Não\n",
            "Ensolarado: 1, Dia da Semana: Dia útil, Parque Lotado: Não => Ir ao parque? Não\n",
            "Ensolarado: 1, Dia da Semana: Final de Semana, Parque Lotado: Não => Ir ao parque? Não\n",
            "Ensolarado: 0, Dia da Semana: Dia útil, Parque Lotado: Sim => Ir ao parque? Sim\n",
            "Ensolarado: 0, Dia da Semana: Final de Semana, Parque Lotado: Sim => Ir ao parque? Sim\n",
            "Ensolarado: 1, Dia da Semana: Dia útil, Parque Lotado: Sim => Ir ao parque? Sim\n",
            "Ensolarado: 1, Dia da Semana: Final de Semana, Parque Lotado: Sim => Ir ao parque? Sim\n"
          ]
        }
      ],
      "source": [
        "from sklearn.linear_model import Perceptron\n",
        "\n",
        "X = [[0, 0, 0], [0, 1, 0], [1, 0, 0], [1, 1, 0], [0, 0, 1], [0, 1, 1], [1, 0, 1], [1, 1, 1]]\n",
        "\n",
        "Y = [0, 1, 1, 1, 0, 0, 0, 0]\n",
        "\n",
        "modelo = Perceptron()\n",
        "modelo.fit(X, Y)\n",
        "\n",
        "print(\"Previsões:\")\n",
        "testes = [[0,0,0], [0,1,0], [1,0,0], [1,1,0], [0,0,1], [0,1,1], [1,0,1], [1,1,1]]\n",
        "for teste in testes:\n",
        "  previsao = modelo.predict([teste])\n",
        "  print(f\"Ensolarado: {teste[0]}, Dia da Semana: {'Final de Semana' if teste[1] == 1 else 'Dia útil'}, Parque Lotado: {'Sim' if teste[2] == 1 else 'Não'} => Ir ao parque? {'Sim' if previsao[0]  == 0 else 'Não'}\")"
      ]
    }
  ]
}